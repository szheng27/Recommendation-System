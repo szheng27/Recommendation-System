{
 "cells": [
  {
   "cell_type": "markdown",
   "id": "a6ce9fe6",
   "metadata": {},
   "source": [
    "## 1. Import the package I wrote"
   ]
  },
  {
   "cell_type": "code",
   "execution_count": 1,
   "id": "9cdefc5a",
   "metadata": {},
   "outputs": [],
   "source": [
    "import MatrixV3\n",
    "from MatrixV3 import RecommendationMeasureStevenZ as rm \n",
    "import numpy as np\n",
    "import pandas as pd"
   ]
  },
  {
   "cell_type": "markdown",
   "id": "6f1caba7",
   "metadata": {},
   "source": [
    "## 2. Set up the path (optional)"
   ]
  },
  {
   "cell_type": "code",
   "execution_count": 2,
   "id": "cc4b1569",
   "metadata": {},
   "outputs": [],
   "source": [
    "import os\n",
    "os.chdir('C:\\\\Users\\\\zheng\\\\Downloads')"
   ]
  },
  {
   "cell_type": "markdown",
   "id": "876f1bbe",
   "metadata": {},
   "source": [
    "## 3. Load dataset\n",
    "\n",
    "\n",
    "\n",
    "\n",
    "df0 is the training data.<br>\n",
    "df1 is the dataset removed n recommendation<br>\n",
    "df_pred is the output from model. *Make sure its the same dimension as df0<br>\n",
    "rand_pred is the random prediction from df1.<br>\n"
   ]
  },
  {
   "cell_type": "code",
   "execution_count": 3,
   "id": "cbffbdb8",
   "metadata": {},
   "outputs": [],
   "source": [
    "df0 = pd.read_csv('df_training_1k.csv')\n",
    "df1 = rm.randomize_non_zero_values(df0,5)\n",
    "\n",
    "rand_pred = rm.generate_random_prediction(df1,5)\n",
    "\n",
    "#replace if you have prediction file\n",
    "#df_pred = pd.read_csv('df_pred.csv')"
   ]
  },
  {
   "cell_type": "markdown",
   "id": "3b96d773",
   "metadata": {},
   "source": [
    "## 4. Check Accuracy"
   ]
  },
  {
   "cell_type": "markdown",
   "id": "a7cea532",
   "metadata": {},
   "source": [
    "For example check the random prediction:"
   ]
  },
  {
   "cell_type": "code",
   "execution_count": 4,
   "id": "d10a1364",
   "metadata": {},
   "outputs": [
    {
     "name": "stdout",
     "output_type": "stream",
     "text": [
      "Prediction accuracy: 1.70%\n"
     ]
    }
   ],
   "source": [
    "recom_acc = rm.calculate_recommendation_accuracy(df0, rand_pred)\n",
    "print(\"Prediction accuracy:\", \"{:.2f}%\".format(recom_acc * 100))"
   ]
  },
  {
   "cell_type": "code",
   "execution_count": null,
   "id": "a2e666c8",
   "metadata": {},
   "outputs": [],
   "source": []
  }
 ],
 "metadata": {
  "kernelspec": {
   "display_name": "Python 3 (ipykernel)",
   "language": "python",
   "name": "python3"
  },
  "language_info": {
   "codemirror_mode": {
    "name": "ipython",
    "version": 3
   },
   "file_extension": ".py",
   "mimetype": "text/x-python",
   "name": "python",
   "nbconvert_exporter": "python",
   "pygments_lexer": "ipython3",
   "version": "3.9.13"
  }
 },
 "nbformat": 4,
 "nbformat_minor": 5
}
