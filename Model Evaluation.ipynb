{
 "cells": [
  {
   "cell_type": "markdown",
   "id": "a6ce9fe6",
   "metadata": {},
   "source": [
    "## 1. Load packages"
   ]
  },
  {
   "cell_type": "code",
   "execution_count": 1,
   "id": "9cdefc5a",
   "metadata": {},
   "outputs": [],
   "source": [
    "import MatrixV3\n",
    "from MatrixV3 import RecommendationMeasureStevenZ as rm \n",
    "import numpy as np\n",
    "import pandas as pd\n"
   ]
  },
  {
   "cell_type": "markdown",
   "id": "6f1caba7",
   "metadata": {},
   "source": [
    "## 2. Set up the path (optional)"
   ]
  },
  {
   "cell_type": "code",
   "execution_count": 2,
   "id": "cc4b1569",
   "metadata": {},
   "outputs": [],
   "source": [
    "import os\n",
    "os.chdir('C:\\\\Users\\\\zheng\\\\Downloads')"
   ]
  },
  {
   "cell_type": "markdown",
   "id": "876f1bbe",
   "metadata": {},
   "source": [
    "## 3. Load dataset\n",
    "\n",
    "\n",
    "\n",
    "\n",
    "df0 is the original training data (initial load)<br>\n",
    "df1 is the dataset removed n recommendation<br>\n",
    "df_pred is the output from model. *Make sure its the same dimension as df0<br>\n",
    "rand_pred is the random prediction from df1.<br>\n"
   ]
  },
  {
   "cell_type": "code",
   "execution_count": null,
   "id": "44ef4e72",
   "metadata": {},
   "outputs": [],
   "source": [
    "np.random.seed(seed_value)\n",
    "df1 = rm.randomize_remove_n(df0,12)"
   ]
  },
  {
   "cell_type": "code",
   "execution_count": 3,
   "id": "cbffbdb8",
   "metadata": {},
   "outputs": [],
   "source": [
    "df0 = pd.read_csv('df_training_1k.csv')\n",
    "df = df0\n",
    "df1 = rm.randomize_remove_n(df0,12)\n",
    "\n",
    "data = df1.melt(id_vars=['user_id'], var_name='app_id', value_name='rating')\n",
    "data = data[data['rating'] != 0]\n",
    "data['rating'] = data['rating'].replace(1, 2) # Change 1s to 2s\n",
    "data['rating'] = data['rating'].replace(-1, 1) # Then change -1s to 1s\n",
    "data['app_id'] = data['app_id'].astype(int)"
   ]
  },
  {
   "cell_type": "markdown",
   "id": "2835a114",
   "metadata": {},
   "source": [
    "# Different type of Predcition:"
   ]
  },
  {
   "cell_type": "markdown",
   "id": "9306dbf3",
   "metadata": {},
   "source": [
    "## Random prediction\n",
    "\n",
    "accuracy could be vary since it's random predicting"
   ]
  },
  {
   "cell_type": "code",
   "execution_count": 18,
   "id": "1cc88a83",
   "metadata": {},
   "outputs": [],
   "source": [
    "rand_pred1 = rm.generate_random_prediction(df1,1)\n",
    "rand_pred3 = rm.generate_random_prediction(df1,3)\n",
    "rand_pred5 = rm.generate_random_prediction(df1,5)\n",
    "rand_pred9 = rm.generate_random_prediction(df1,9)\n",
    "rand_pred12 = rm.generate_random_prediction(df1,12)"
   ]
  },
  {
   "cell_type": "markdown",
   "id": "2e691dd1",
   "metadata": {},
   "source": [
    "## Model I"
   ]
  },
  {
   "cell_type": "code",
   "execution_count": 5,
   "id": "61dba7d9",
   "metadata": {},
   "outputs": [],
   "source": [
    "import pandas as pd\n",
    "from sklearn.metrics.pairwise import cosine_similarity\n",
    "\n",
    "def calculate_popularity(data):\n",
    "    # Calculate the popularity of each game\n",
    "    popularity = data.apply(lambda x: x > 0).sum().sort_values(ascending=False)\n",
    "    return popularity\n",
    "\n",
    "def create_recommendation_dataframe(data, n):\n",
    "    # make sure we have column for 'user_id'\n",
    "    if 'user_id' in data.index.names:\n",
    "        data.reset_index(inplace=True)\n",
    "\n",
    "    user_ids = data['user_id']\n",
    "    game_data = data.drop('user_id', axis=1)\n",
    "    all_games = game_data.columns.tolist()  # all column of game ID\n",
    "    popularity = calculate_popularity(game_data).index[:n]  # get most top n popular game\n",
    "\n",
    "    cosine_sim = cosine_similarity(game_data)\n",
    "    recommendations = pd.DataFrame(0, index=user_ids, columns=all_games)\n",
    "\n",
    "    for idx, user_id in enumerate(user_ids):\n",
    "        sim_scores = list(enumerate(cosine_sim[idx]))\n",
    "        sim_scores = sorted(sim_scores, key=lambda x: x[1], reverse=True)\n",
    "        most_similar_users = [sim_scores[i][0] for i in range(1, 6)]\n",
    "        \n",
    "        similar_users_likes = game_data.iloc[most_similar_users].sum(axis=0)\n",
    "        top_games = similar_users_likes.sort_values(ascending=False).head(n).index\n",
    "        \n",
    "        recommendations.loc[user_id, top_games] = 1\n",
    "\n",
    "        # Check and fill insufficient testimonials\n",
    "        if recommendations.loc[user_id].sum() < n:\n",
    "            needed = n - recommendations.loc[user_id].sum()\n",
    "            recommendations.loc[user_id, popularity[:needed]] = 1\n",
    "\n",
    "    recommendations['user_id'] = user_ids  # Re-add the user_id column\n",
    "    return recommendations"
   ]
  },
  {
   "cell_type": "code",
   "execution_count": 24,
   "id": "46009561",
   "metadata": {},
   "outputs": [],
   "source": [
    "final_recommendations_1 = create_recommendation_dataframe(df1, n=1)\n",
    "final_recommendations_3 = create_recommendation_dataframe(df1, n=3)\n",
    "final_recommendations_5 = create_recommendation_dataframe(df1, n=5)\n",
    "final_recommendations_9 = create_recommendation_dataframe(df1, n=9)\n",
    "final_recommendations_12 = create_recommendation_dataframe(df1, n=12)"
   ]
  },
  {
   "cell_type": "markdown",
   "id": "39b16b72",
   "metadata": {},
   "source": [
    "## Model II"
   ]
  },
  {
   "cell_type": "code",
   "execution_count": null,
   "id": "2e1e2a36",
   "metadata": {},
   "outputs": [],
   "source": [
    "reader = Reader(rating_scale=(1, 2))\n",
    "sup_data = Dataset.load_from_df(data[['user_id', 'app_id', 'rating']], reader)\n",
    "\n",
    "sup_train = sup_data.build_full_trainset()\n",
    "algo = SVD(n_factors = 200 , lr_all = 0.005 , reg_all = 0.02 , n_epochs = 30 , init_std_dev = 0.05)\n",
    "algo.fit(sup_train)"
   ]
  },
  {
   "cell_type": "code",
   "execution_count": null,
   "id": "bbb03cde",
   "metadata": {},
   "outputs": [],
   "source": [
    "def prediction_algo(uid = None , iid = None):\n",
    "    predictions = []\n",
    "    if uid is None:\n",
    "        for ui in sup_train.all_users():\n",
    "            predictions.append(algo.predict(ui, iid, verbose = False))\n",
    "        return predictions\n",
    "\n",
    "    if iid is None:\n",
    "        for ii in sup_train.all_items():\n",
    "            ii = sup_train.to_raw_iid(ii)\n",
    "            predictions.append(algo.predict(uid, ii, verbose = False))\n",
    "        return predictions\n",
    "    return predictions.append(algo.predict(uid,iid,verbose = False))\n",
    "\n",
    "def worker(user_id, prediction_algo, n):\n",
    "    predictions = prediction_algo(uid=user_id)\n",
    "    top_n_iids = sorted(predictions, key=lambda x: x.est, reverse=True)[:n]\n",
    "    top_n_iids = [str(pred.iid) for pred in top_n_iids]  # Use str(pred.iid)\n",
    "    return user_id, top_n_iids\n",
    "\n",
    "def create_recommendation_matrix(df, prediction_algo, n, num_workers=10):\n",
    "    user_ids = df['user_id'].tolist()  # Convert to list for ordered iteration\n",
    "    app_ids = df.columns[1:].tolist()  # First column is 'user_id'\n",
    "\n",
    "    # Initialize the recommendation dataframe with zeros\n",
    "    recommendations_df = pd.DataFrame(0, index=user_ids, columns=app_ids, dtype=int)\n",
    "\n",
    "    # Use a ThreadPoolExecutor to parallelize the recommendation process\n",
    "    with ThreadPoolExecutor(max_workers=num_workers) as executor:\n",
    "        future_to_user_id = {executor.submit(worker, user_id, prediction_algo, n): user_id for user_id in user_ids}\n",
    "\n",
    "        for future in as_completed(future_to_user_id):\n",
    "            user_id, top_n_iids = future.result()\n",
    "            recommendations_df.loc[user_id, top_n_iids] = 1\n",
    "\n",
    "    # Reset index to make user_id a column\n",
    "    recommendations_df.reset_index(inplace=True)\n",
    "    recommendations_df.rename(columns={'index': 'user_id'}, inplace=True)\n",
    "    \n",
    "    return recommendations_df"
   ]
  },
  {
   "cell_type": "markdown",
   "id": "3b96d773",
   "metadata": {},
   "source": [
    "## 4. Check Accuracy with Different n"
   ]
  },
  {
   "cell_type": "markdown",
   "id": "b61d7c2a",
   "metadata": {},
   "source": [
    "#### Random Guess:"
   ]
  },
  {
   "cell_type": "code",
   "execution_count": 19,
   "id": "05eff18b",
   "metadata": {},
   "outputs": [
    {
     "name": "stdout",
     "output_type": "stream",
     "text": [
      "Prediction accuracy for 1 random guess: 0.20%\n"
     ]
    }
   ],
   "source": [
    "rand_acc1 = rm.calculate_recommendation_accuracy(df0, rand_pred1)\n",
    "print(\"Prediction accuracy for 1 random guess:\", \"{:.2f}%\".format(rand_acc1 * 100))"
   ]
  },
  {
   "cell_type": "code",
   "execution_count": 20,
   "id": "83be777b",
   "metadata": {},
   "outputs": [
    {
     "name": "stdout",
     "output_type": "stream",
     "text": [
      "Prediction accuracy for 3 random guess: 0.60%\n"
     ]
    }
   ],
   "source": [
    "rand_acc3 = rm.calculate_recommendation_accuracy(df0, rand_pred3)\n",
    "print(\"Prediction accuracy for 3 random guess:\", \"{:.2f}%\".format(rand_acc3 * 100))"
   ]
  },
  {
   "cell_type": "code",
   "execution_count": 21,
   "id": "f4f58980",
   "metadata": {},
   "outputs": [
    {
     "name": "stdout",
     "output_type": "stream",
     "text": [
      "Prediction accuracy for 5 random guess: 1.80%\n"
     ]
    }
   ],
   "source": [
    "rand_acc5 = rm.calculate_recommendation_accuracy(df0, rand_pred5)\n",
    "print(\"Prediction accuracy for 5 random guess:\", \"{:.2f}%\".format(rand_acc5 * 100))"
   ]
  },
  {
   "cell_type": "code",
   "execution_count": 22,
   "id": "b864217d",
   "metadata": {},
   "outputs": [
    {
     "name": "stdout",
     "output_type": "stream",
     "text": [
      "Prediction accuracy for 9 random guess: 2.90%\n"
     ]
    }
   ],
   "source": [
    "rand_acc9 = rm.calculate_recommendation_accuracy(df0, rand_pred9)\n",
    "print(\"Prediction accuracy for 9 random guess:\", \"{:.2f}%\".format(rand_acc9 * 100))"
   ]
  },
  {
   "cell_type": "code",
   "execution_count": 23,
   "id": "84cffe30",
   "metadata": {},
   "outputs": [
    {
     "name": "stdout",
     "output_type": "stream",
     "text": [
      "Prediction accuracy for 12 random guess: 5.00%\n"
     ]
    }
   ],
   "source": [
    "rand_acc12 = rm.calculate_recommendation_accuracy(df0, rand_pred12)\n",
    "print(\"Prediction accuracy for 12 random guess:\", \"{:.2f}%\".format(rand_acc12 * 100))"
   ]
  },
  {
   "cell_type": "markdown",
   "id": "1c4bdf33",
   "metadata": {},
   "source": [
    "#### Model 1 prediction:"
   ]
  },
  {
   "cell_type": "code",
   "execution_count": 25,
   "id": "a2e666c8",
   "metadata": {},
   "outputs": [
    {
     "name": "stdout",
     "output_type": "stream",
     "text": [
      "Prediction accuracy for n = 1 : 6.30%\n"
     ]
    }
   ],
   "source": [
    "recom_acc1 = rm.calculate_recommendation_accuracy(df0, final_recommendations_1)\n",
    "print(\"Prediction accuracy for n = 1 :\", \"{:.2f}%\".format(recom_acc1 * 100))"
   ]
  },
  {
   "cell_type": "code",
   "execution_count": 26,
   "id": "1bfae140",
   "metadata": {},
   "outputs": [
    {
     "name": "stdout",
     "output_type": "stream",
     "text": [
      "Prediction accuracy for n = 3 : 14.00%\n"
     ]
    }
   ],
   "source": [
    "recom_acc3 = rm.calculate_recommendation_accuracy(df0, final_recommendations_3)\n",
    "print(\"Prediction accuracy for n = 3 :\", \"{:.2f}%\".format(recom_acc3 * 100))"
   ]
  },
  {
   "cell_type": "code",
   "execution_count": 27,
   "id": "30c71a20",
   "metadata": {},
   "outputs": [
    {
     "name": "stdout",
     "output_type": "stream",
     "text": [
      "Prediction accuracy for n = 5 : 19.40%\n"
     ]
    }
   ],
   "source": [
    "recom_acc5 = rm.calculate_recommendation_accuracy(df0, final_recommendations_5)\n",
    "print(\"Prediction accuracy for n = 5 :\", \"{:.2f}%\".format(recom_acc5 * 100))"
   ]
  },
  {
   "cell_type": "code",
   "execution_count": 28,
   "id": "14408a3b",
   "metadata": {},
   "outputs": [
    {
     "name": "stdout",
     "output_type": "stream",
     "text": [
      "Prediction accuracy for n = 9 : 29.60%\n"
     ]
    }
   ],
   "source": [
    "recom_acc9 = rm.calculate_recommendation_accuracy(df0, final_recommendations_9)\n",
    "print(\"Prediction accuracy for n = 9 :\", \"{:.2f}%\".format(recom_acc9 * 100))"
   ]
  },
  {
   "cell_type": "code",
   "execution_count": 29,
   "id": "76c9e5a7",
   "metadata": {},
   "outputs": [
    {
     "name": "stdout",
     "output_type": "stream",
     "text": [
      "Prediction accuracy for n = 12 : 34.30%\n"
     ]
    }
   ],
   "source": [
    "recom_acc12 = rm.calculate_recommendation_accuracy(df0, final_recommendations_12)\n",
    "print(\"Prediction accuracy for n = 12 :\", \"{:.2f}%\".format(recom_acc12 * 100))"
   ]
  },
  {
   "cell_type": "markdown",
   "id": "10f7325a",
   "metadata": {},
   "source": [
    "#### Model 2 predcition:"
   ]
  },
  {
   "cell_type": "code",
   "execution_count": null,
   "id": "e4f49236",
   "metadata": {},
   "outputs": [],
   "source": [
    "N_values = [1, 3, 5, 9, 12]\n",
    "\n",
    "# Initialize an empty list to store the results\n",
    "results = []\n",
    "\n",
    "# Loop through the values of N\n",
    "for N in N_values:\n",
    "    # Call the recommendation function\n",
    "    recommendation_matrix = create_recommendation_matrix(df, prediction_algo, N, num_workers=10)\n",
    "\n",
    "    # Calculate the recommendation accuracy and precision\n",
    "    recom_acc = rm.calculate_recommendation_accuracy(df, recommendation_matrix)\n",
    "    recom_prec = rm.estimate_precision(df, recommendation_matrix,12)\n",
    "    # Store N and the accuracy in the results list\n",
    "    results.append({'N': N, 'Model II Accuracy': recom_acc * 100, 'Model II Precision': recom_prec *100})\n",
    "\n",
    "\n",
    "results_df = pd.DataFrame(results)\n",
    "results_df"
   ]
  },
  {
   "cell_type": "code",
   "execution_count": 36,
   "id": "c9ad3047",
   "metadata": {},
   "outputs": [],
   "source": [
    "M2_recommendations_1 = pd.read_csv('recommendation_matrix_1.csv', index_col=0)\n",
    "M2_recommendations_3 = pd.read_csv('recommendation_matrix_3.csv',index_col=0)\n",
    "M2_recommendations_5 = pd.read_csv('recommendation_matrix_5.csv', index_col=0)\n",
    "M2_recommendations_9 = pd.read_csv('recommendation_matrix_9.csv', index_col=0)\n",
    "M2_recommendations_12 = pd.read_csv('recommendation_matrix_12.csv', index_col=0)"
   ]
  },
  {
   "cell_type": "code",
   "execution_count": 46,
   "id": "b8007df2",
   "metadata": {},
   "outputs": [
    {
     "data": {
      "text/html": [
       "<div>\n",
       "<style scoped>\n",
       "    .dataframe tbody tr th:only-of-type {\n",
       "        vertical-align: middle;\n",
       "    }\n",
       "\n",
       "    .dataframe tbody tr th {\n",
       "        vertical-align: top;\n",
       "    }\n",
       "\n",
       "    .dataframe thead th {\n",
       "        text-align: right;\n",
       "    }\n",
       "</style>\n",
       "<table border=\"1\" class=\"dataframe\">\n",
       "  <thead>\n",
       "    <tr style=\"text-align: right;\">\n",
       "      <th></th>\n",
       "      <th>N</th>\n",
       "      <th>Model II Accuracy</th>\n",
       "      <th>Model II Precision</th>\n",
       "    </tr>\n",
       "  </thead>\n",
       "  <tbody>\n",
       "    <tr>\n",
       "      <th>0</th>\n",
       "      <td>1</td>\n",
       "      <td>8.5</td>\n",
       "      <td>8.500000</td>\n",
       "    </tr>\n",
       "    <tr>\n",
       "      <th>1</th>\n",
       "      <td>3</td>\n",
       "      <td>20.2</td>\n",
       "      <td>9.400000</td>\n",
       "    </tr>\n",
       "    <tr>\n",
       "      <th>2</th>\n",
       "      <td>5</td>\n",
       "      <td>29.7</td>\n",
       "      <td>9.680000</td>\n",
       "    </tr>\n",
       "    <tr>\n",
       "      <th>3</th>\n",
       "      <td>9</td>\n",
       "      <td>43.8</td>\n",
       "      <td>9.711111</td>\n",
       "    </tr>\n",
       "    <tr>\n",
       "      <th>4</th>\n",
       "      <td>12</td>\n",
       "      <td>50.1</td>\n",
       "      <td>9.566667</td>\n",
       "    </tr>\n",
       "  </tbody>\n",
       "</table>\n",
       "</div>"
      ],
      "text/plain": [
       "    N  Model II Accuracy  Model II Precision\n",
       "0   1                8.5            8.500000\n",
       "1   3               20.2            9.400000\n",
       "2   5               29.7            9.680000\n",
       "3   9               43.8            9.711111\n",
       "4  12               50.1            9.566667"
      ]
     },
     "execution_count": 46,
     "metadata": {},
     "output_type": "execute_result"
    }
   ],
   "source": [
    "N_values = [1, 3, 5, 9, 12]\n",
    "\n",
    "# Initialize an empty list to store the results\n",
    "results = []\n",
    "\n",
    "for N in N_values:\n",
    "\n",
    "    recommendation_matrix = globals()['M2_recommendations_' + str(N)]\n",
    "\n",
    "    recom_acc = rm.calculate_recommendation_accuracy(df, recommendation_matrix)\n",
    "    recom_prec = rm.estimate_precision(df, recommendation_matrix,N)    \n",
    "    # Store N, accuracy, and precision in the results list\n",
    "    results.append({'N': N, 'Model II Accuracy': recom_acc * 100, 'Model II Precision': recom_prec * 100})\n",
    "\n",
    "# Create a DataFrame from the results list\n",
    "results_df = pd.DataFrame(results)\n",
    "results_df"
   ]
  },
  {
   "cell_type": "markdown",
   "id": "d1ae426b",
   "metadata": {},
   "source": [
    "### Plot Accuarcy"
   ]
  },
  {
   "cell_type": "code",
   "execution_count": 51,
   "id": "24fe1b48",
   "metadata": {},
   "outputs": [
    {
     "data": {
      "text/html": [
       "<div>\n",
       "<style scoped>\n",
       "    .dataframe tbody tr th:only-of-type {\n",
       "        vertical-align: middle;\n",
       "    }\n",
       "\n",
       "    .dataframe tbody tr th {\n",
       "        vertical-align: top;\n",
       "    }\n",
       "\n",
       "    .dataframe thead th {\n",
       "        text-align: right;\n",
       "    }\n",
       "</style>\n",
       "<table border=\"1\" class=\"dataframe\">\n",
       "  <thead>\n",
       "    <tr style=\"text-align: right;\">\n",
       "      <th></th>\n",
       "      <th>N</th>\n",
       "      <th>Random Guess</th>\n",
       "      <th>Model I Accuracy</th>\n",
       "      <th>Model II Accuracy</th>\n",
       "    </tr>\n",
       "  </thead>\n",
       "  <tbody>\n",
       "    <tr>\n",
       "      <th>0</th>\n",
       "      <td>1</td>\n",
       "      <td>0.2</td>\n",
       "      <td>6.3</td>\n",
       "      <td>8.5</td>\n",
       "    </tr>\n",
       "    <tr>\n",
       "      <th>1</th>\n",
       "      <td>3</td>\n",
       "      <td>0.6</td>\n",
       "      <td>14.0</td>\n",
       "      <td>20.2</td>\n",
       "    </tr>\n",
       "    <tr>\n",
       "      <th>2</th>\n",
       "      <td>5</td>\n",
       "      <td>1.8</td>\n",
       "      <td>19.4</td>\n",
       "      <td>29.7</td>\n",
       "    </tr>\n",
       "    <tr>\n",
       "      <th>3</th>\n",
       "      <td>9</td>\n",
       "      <td>2.9</td>\n",
       "      <td>29.6</td>\n",
       "      <td>43.8</td>\n",
       "    </tr>\n",
       "    <tr>\n",
       "      <th>4</th>\n",
       "      <td>12</td>\n",
       "      <td>5.0</td>\n",
       "      <td>34.3</td>\n",
       "      <td>50.1</td>\n",
       "    </tr>\n",
       "  </tbody>\n",
       "</table>\n",
       "</div>"
      ],
      "text/plain": [
       "    N  Random Guess  Model I Accuracy  Model II Accuracy\n",
       "0   1           0.2               6.3                8.5\n",
       "1   3           0.6              14.0               20.2\n",
       "2   5           1.8              19.4               29.7\n",
       "3   9           2.9              29.6               43.8\n",
       "4  12           5.0              34.3               50.1"
      ]
     },
     "execution_count": 51,
     "metadata": {},
     "output_type": "execute_result"
    }
   ],
   "source": [
    "acc_data = {\n",
    "    'N': [1, 3, 5, 9, 12],\n",
    "    'Random Guess': [rand_acc1,rand_acc3,rand_acc5,rand_acc9,rand_acc12],\n",
    "    'Model I Accuracy': [recom_acc1, recom_acc3, recom_acc5, recom_acc9, recom_acc12],\n",
    "}\n",
    "\n",
    "accuracy_df = pd.DataFrame(acc_data)\n",
    "\n",
    "accuracy_df['Random Guess'] *= 100\n",
    "accuracy_df['Model I Accuracy'] *= 100\n",
    "accuracy_df['Model II Accuracy'] = results_df['Model II Accuracy']\n",
    "accuracy_df"
   ]
  },
  {
   "cell_type": "code",
   "execution_count": 52,
   "id": "931626b5",
   "metadata": {
    "scrolled": false
   },
   "outputs": [
    {
     "data": {
      "image/png": "[encoded data removed]",
      "text/plain": [
       "<Figure size 640x480 with 1 Axes>"
      ]
     },
     "metadata": {},
     "output_type": "display_data"
    }
   ],
   "source": [
    "import matplotlib.pyplot as plt\n",
    "\n",
    "plt.plot(accuracy_df['N'], accuracy_df['Random Guess'], label='Random Guess', color='red')\n",
    "plt.plot(accuracy_df['N'], accuracy_df['Model I Accuracy'], label='Model I', color='blue')\n",
    "plt.plot(accuracy_df['N'], accuracy_df['Model II Accuracy'], label='Model II', color='purple')\n",
    "\n",
    "plt.xlabel('N')\n",
    "plt.ylabel('Accuracy %')\n",
    "plt.legend()\n",
    "plt.title('Recommendation Accuracy Comparison')\n",
    "\n",
    "plt.show()\n",
    "\n",
    "\n",
    "\n",
    "\n",
    "\n"
   ]
  },
  {
   "cell_type": "code",
   "execution_count": null,
   "id": "75d162b4",
   "metadata": {},
   "outputs": [],
   "source": []
  },
  {
   "cell_type": "markdown",
   "id": "ec9966f2",
   "metadata": {},
   "source": [
    "## 5. Check Precision with Different n"
   ]
  },
  {
   "cell_type": "markdown",
   "id": "ca1849d9",
   "metadata": {},
   "source": [
    "Random Guess"
   ]
  },
  {
   "cell_type": "code",
   "execution_count": 53,
   "id": "4c2e7365",
   "metadata": {},
   "outputs": [],
   "source": [
    "rand_prec1 = rm.estimate_precision(df0, rand_pred1,1)\n",
    "rand_prec3 = rm.estimate_precision(df0, rand_pred3,3)\n",
    "rand_prec5 = rm.estimate_precision(df0, rand_pred5,5)\n",
    "rand_prec9 = rm.estimate_precision(df0, rand_pred9,9)\n",
    "rand_prec12 = rm.estimate_precision(df0, rand_pred12,12)\n"
   ]
  },
  {
   "cell_type": "markdown",
   "id": "3797c085",
   "metadata": {},
   "source": [
    "Model I"
   ]
  },
  {
   "cell_type": "code",
   "execution_count": 35,
   "id": "2911759a",
   "metadata": {},
   "outputs": [],
   "source": [
    "def estimate_precision(df0, df_pred, n):\n",
    "        \"\"\"\n",
    "        Count the total number of occurrences of the value 2 in the DataFrame.\n",
    "\n",
    "        Parameters:\n",
    "            df (DataFrame): Input DataFrame.\n",
    "\n",
    "        Returns:\n",
    "            int: Total number of occurrences of the value 2.\n",
    "        \"\"\"\n",
    "        matrix_df0 = df0.values\n",
    "        matrix_df_pred = df_pred.values\n",
    "        matrix_sum = matrix_df0 + matrix_df_pred\n",
    "\n",
    "        result_df = pd.DataFrame(matrix_sum, columns=df0.columns, index=df0.index)\n",
    "        num_rows_2 = result_df.values.ravel().tolist().count(2)\n",
    "        precision = num_rows_2 / (df0.shape[0]*n)\n",
    "        return precision"
   ]
  },
  {
   "cell_type": "code",
   "execution_count": 37,
   "id": "6214da85",
   "metadata": {},
   "outputs": [],
   "source": [
    "from MatrixV3 import RecommendationMeasureStevenZ as rm "
   ]
  },
  {
   "cell_type": "code",
   "execution_count": 44,
   "id": "421bbd88",
   "metadata": {},
   "outputs": [],
   "source": [
    "recom_prec1 = rm.estimate_precision(df0, final_recommendations_1,1)\n",
    "recom_prec3 = rm.estimate_precision(df0, final_recommendations_3,3)\n",
    "recom_prec5 = rm.estimate_precision(df0, final_recommendations_5,5)\n",
    "recom_prec9 = rm.estimate_precision(df0, final_recommendations_9,9)\n",
    "recom_prec12 = rm.estimate_precision(df0, final_recommendations_12,12)"
   ]
  },
  {
   "cell_type": "code",
   "execution_count": 54,
   "id": "020b4daa",
   "metadata": {},
   "outputs": [
    {
     "data": {
      "text/html": [
       "<div>\n",
       "<style scoped>\n",
       "    .dataframe tbody tr th:only-of-type {\n",
       "        vertical-align: middle;\n",
       "    }\n",
       "\n",
       "    .dataframe tbody tr th {\n",
       "        vertical-align: top;\n",
       "    }\n",
       "\n",
       "    .dataframe thead th {\n",
       "        text-align: right;\n",
       "    }\n",
       "</style>\n",
       "<table border=\"1\" class=\"dataframe\">\n",
       "  <thead>\n",
       "    <tr style=\"text-align: right;\">\n",
       "      <th></th>\n",
       "      <th>N</th>\n",
       "      <th>Random Guess</th>\n",
       "      <th>Model I Precision</th>\n",
       "      <th>Model II Precision</th>\n",
       "    </tr>\n",
       "  </thead>\n",
       "  <tbody>\n",
       "    <tr>\n",
       "      <th>0</th>\n",
       "      <td>1</td>\n",
       "      <td>0.200000</td>\n",
       "      <td>6.300000</td>\n",
       "      <td>8.500000</td>\n",
       "    </tr>\n",
       "    <tr>\n",
       "      <th>1</th>\n",
       "      <td>3</td>\n",
       "      <td>0.200000</td>\n",
       "      <td>5.666667</td>\n",
       "      <td>9.400000</td>\n",
       "    </tr>\n",
       "    <tr>\n",
       "      <th>2</th>\n",
       "      <td>5</td>\n",
       "      <td>0.360000</td>\n",
       "      <td>5.480000</td>\n",
       "      <td>9.680000</td>\n",
       "    </tr>\n",
       "    <tr>\n",
       "      <th>3</th>\n",
       "      <td>9</td>\n",
       "      <td>0.333333</td>\n",
       "      <td>5.244444</td>\n",
       "      <td>9.711111</td>\n",
       "    </tr>\n",
       "    <tr>\n",
       "      <th>4</th>\n",
       "      <td>12</td>\n",
       "      <td>0.441667</td>\n",
       "      <td>4.933333</td>\n",
       "      <td>9.566667</td>\n",
       "    </tr>\n",
       "  </tbody>\n",
       "</table>\n",
       "</div>"
      ],
      "text/plain": [
       "    N  Random Guess  Model I Precision  Model II Precision\n",
       "0   1      0.200000           6.300000            8.500000\n",
       "1   3      0.200000           5.666667            9.400000\n",
       "2   5      0.360000           5.480000            9.680000\n",
       "3   9      0.333333           5.244444            9.711111\n",
       "4  12      0.441667           4.933333            9.566667"
      ]
     },
     "execution_count": 54,
     "metadata": {},
     "output_type": "execute_result"
    }
   ],
   "source": [
    "prec_data = {\n",
    "    'N': [1, 3, 5, 9, 12],\n",
    "    'Random Guess': [rand_prec1,rand_prec3,rand_prec5,rand_prec9,rand_prec12],\n",
    "    'Model I Precision': [recom_prec1, recom_prec3, recom_prec5, recom_prec9, recom_prec12],\n",
    "}\n",
    "\n",
    "precision_df = pd.DataFrame(prec_data)\n",
    "precision_df['Random Guess'] *= 100\n",
    "precision_df['Model I Precision'] *= 100\n",
    "precision_df['Model II Precision'] = results_df['Model II Precision']\n",
    "precision_df"
   ]
  },
  {
   "cell_type": "code",
   "execution_count": 64,
   "id": "9e1034cd",
   "metadata": {},
   "outputs": [
    {
     "data": {
      "image/png": "[encoded data removed]",
      "text/plain": [
       "<Figure size 640x480 with 1 Axes>"
      ]
     },
     "metadata": {},
     "output_type": "display_data"
    }
   ],
   "source": [
    "plt.plot(precision_df['N'], precision_df['Random Guess'], label='Random Guess', color='red')\n",
    "plt.plot(precision_df['N'], precision_df['Model I Precision'], label='Model I', color='blue')\n",
    "plt.plot(precision_df['N'], precision_df['Model II Precision'], label='Model II', color='purple')\n",
    "\n",
    "plt.xlabel('N')\n",
    "plt.ylabel('Precision %')\n",
    "plt.legend()\n",
    "plt.title('Recommendation Precision Comparison')\n",
    "\n",
    "plt.legend(loc='lower left', bbox_to_anchor=(1, 0))\n",
    "plt.show()\n",
    "\n",
    "\n",
    "\n",
    "\n",
    "\n"
   ]
  },
  {
   "cell_type": "code",
   "execution_count": null,
   "id": "1323f074",
   "metadata": {},
   "outputs": [],
   "source": []
  }
 ],
 "metadata": {
  "kernelspec": {
   "display_name": "Python 3 (ipykernel)",
   "language": "python",
   "name": "python3"
  },
  "language_info": {
   "codemirror_mode": {
    "name": "ipython",
    "version": 3
   },
   "file_extension": ".py",
   "mimetype": "text/x-python",
   "name": "python",
   "nbconvert_exporter": "python",
   "pygments_lexer": "ipython3",
   "version": "3.9.13"
  }
 },
 "nbformat": 4,
 "nbformat_minor": 5
}
