{
 "cells": [
  {
   "cell_type": "markdown",
   "metadata": {},
   "source": [
    "# Import"
   ]
  },
  {
   "cell_type": "code",
   "execution_count": 1,
   "metadata": {},
   "outputs": [],
   "source": [
    "import pandas as pd\n",
    "\n",
    "import MatrixV3\n",
    "from MatrixV3 import RecommendationMeasureStevenZ as rm\n",
    "\n",
    "from surprise import Reader, Dataset, SVD\n",
    "\n",
    "from surprise.model_selection import cross_validate\n",
    "\n",
    "from concurrent.futures import ThreadPoolExecutor, as_completed"
   ]
  },
  {
   "cell_type": "markdown",
   "metadata": {},
   "source": [
    "# Load and transform data"
   ]
  },
  {
   "cell_type": "code",
   "execution_count": 2,
   "metadata": {},
   "outputs": [
    {
     "data": {
      "text/html": [
       "<div>\n",
       "<style scoped>\n",
       "    .dataframe tbody tr th:only-of-type {\n",
       "        vertical-align: middle;\n",
       "    }\n",
       "\n",
       "    .dataframe tbody tr th {\n",
       "        vertical-align: top;\n",
       "    }\n",
       "\n",
       "    .dataframe thead th {\n",
       "        text-align: right;\n",
       "    }\n",
       "</style>\n",
       "<table border=\"1\" class=\"dataframe\">\n",
       "  <thead>\n",
       "    <tr style=\"text-align: right;\">\n",
       "      <th></th>\n",
       "      <th>user_id</th>\n",
       "      <th>app_id</th>\n",
       "      <th>rating</th>\n",
       "    </tr>\n",
       "  </thead>\n",
       "  <tbody>\n",
       "    <tr>\n",
       "      <th>56</th>\n",
       "      <td>118422</td>\n",
       "      <td>10</td>\n",
       "      <td>2</td>\n",
       "    </tr>\n",
       "    <tr>\n",
       "      <th>86</th>\n",
       "      <td>204980</td>\n",
       "      <td>10</td>\n",
       "      <td>2</td>\n",
       "    </tr>\n",
       "    <tr>\n",
       "      <th>95</th>\n",
       "      <td>232709</td>\n",
       "      <td>10</td>\n",
       "      <td>2</td>\n",
       "    </tr>\n",
       "    <tr>\n",
       "      <th>133</th>\n",
       "      <td>345832</td>\n",
       "      <td>10</td>\n",
       "      <td>2</td>\n",
       "    </tr>\n",
       "    <tr>\n",
       "      <th>140</th>\n",
       "      <td>359152</td>\n",
       "      <td>10</td>\n",
       "      <td>2</td>\n",
       "    </tr>\n",
       "  </tbody>\n",
       "</table>\n",
       "</div>"
      ],
      "text/plain": [
       "     user_id  app_id  rating\n",
       "56    118422      10       2\n",
       "86    204980      10       2\n",
       "95    232709      10       2\n",
       "133   345832      10       2\n",
       "140   359152      10       2"
      ]
     },
     "execution_count": 2,
     "metadata": {},
     "output_type": "execute_result"
    }
   ],
   "source": [
    "df = pd.read_csv('df_training_1k.csv')\n",
    "\n",
    "df1 = rm.randomize_non_zero_values(df, 12)\n",
    "\n",
    "data = df1.melt(id_vars=['user_id'], var_name='app_id', value_name='rating')\n",
    "data = data[data['rating'] != 0]\n",
    "data['rating'] = data['rating'].replace(1, 2) # Change 1s to 2s\n",
    "data['rating'] = data['rating'].replace(-1, 1) # Then change -1s to 1s\n",
    "data['app_id'] = data['app_id'].astype(int)\n",
    "data.head()"
   ]
  },
  {
   "cell_type": "markdown",
   "metadata": {},
   "source": [
    "# Surprise Method"
   ]
  },
  {
   "cell_type": "code",
   "execution_count": 3,
   "metadata": {},
   "outputs": [
    {
     "data": {
      "text/plain": [
       "<surprise.prediction_algorithms.matrix_factorization.SVD at 0x1e5d704cf50>"
      ]
     },
     "execution_count": 3,
     "metadata": {},
     "output_type": "execute_result"
    }
   ],
   "source": [
    "reader = Reader(rating_scale=(1, 2))\n",
    "sup_data = Dataset.load_from_df(data[['user_id', 'app_id', 'rating']], reader)\n",
    "\n",
    "sup_train = sup_data.build_full_trainset()\n",
    "algo = SVD(n_factors = 200 , lr_all = 0.005 , reg_all = 0.02 , n_epochs = 30 , init_std_dev = 0.05)\n",
    "algo.fit(sup_train)"
   ]
  },
  {
   "cell_type": "code",
   "execution_count": 4,
   "metadata": {},
   "outputs": [],
   "source": [
    "def prediction_algo(uid = None , iid = None):\n",
    "    predictions = []\n",
    "    if uid is None:\n",
    "        for ui in sup_train.all_users():\n",
    "            predictions.append(algo.predict(ui, iid, verbose = False))\n",
    "        return predictions\n",
    "\n",
    "    if iid is None:\n",
    "        for ii in sup_train.all_items():\n",
    "            ii = sup_train.to_raw_iid(ii)\n",
    "            predictions.append(algo.predict(uid, ii, verbose = False))\n",
    "        return predictions\n",
    "    return predictions.append(algo.predict(uid,iid,verbose = False))\n",
    "\n",
    "def worker(user_id, prediction_algo, n):\n",
    "    predictions = prediction_algo(uid=user_id)\n",
    "    top_n_iids = sorted(predictions, key=lambda x: x.est, reverse=True)[:n]\n",
    "    top_n_iids = [str(pred.iid) for pred in top_n_iids]  # Use str(pred.iid)\n",
    "    return user_id, top_n_iids\n",
    "\n",
    "def create_recommendation_matrix(df, prediction_algo, n, num_workers=10):\n",
    "    user_ids = df['user_id'].tolist()  # Convert to list for ordered iteration\n",
    "    app_ids = df.columns[1:].tolist()  # First column is 'user_id'\n",
    "\n",
    "    # Initialize the recommendation dataframe with zeros\n",
    "    recommendations_df = pd.DataFrame(0, index=user_ids, columns=app_ids, dtype=int)\n",
    "\n",
    "    # Use a ThreadPoolExecutor to parallelize the recommendation process\n",
    "    with ThreadPoolExecutor(max_workers=num_workers) as executor:\n",
    "        future_to_user_id = {executor.submit(worker, user_id, prediction_algo, n): user_id for user_id in user_ids}\n",
    "\n",
    "        for future in as_completed(future_to_user_id):\n",
    "            user_id, top_n_iids = future.result()\n",
    "            recommendations_df.loc[user_id, top_n_iids] = 1\n",
    "\n",
    "    # Reset index to make user_id a column\n",
    "    recommendations_df.reset_index(inplace=True)\n",
    "    recommendations_df.rename(columns={'index': 'user_id'}, inplace=True)\n",
    "    \n",
    "    return recommendations_df"
   ]
  },
  {
   "cell_type": "code",
   "execution_count": 5,
   "metadata": {},
   "outputs": [
    {
     "data": {
      "text/html": [
       "<div>\n",
       "<style scoped>\n",
       "    .dataframe tbody tr th:only-of-type {\n",
       "        vertical-align: middle;\n",
       "    }\n",
       "\n",
       "    .dataframe tbody tr th {\n",
       "        vertical-align: top;\n",
       "    }\n",
       "\n",
       "    .dataframe thead th {\n",
       "        text-align: right;\n",
       "    }\n",
       "</style>\n",
       "<table border=\"1\" class=\"dataframe\">\n",
       "  <thead>\n",
       "    <tr style=\"text-align: right;\">\n",
       "      <th></th>\n",
       "      <th>N</th>\n",
       "      <th>Accuracy</th>\n",
       "    </tr>\n",
       "  </thead>\n",
       "  <tbody>\n",
       "    <tr>\n",
       "      <th>0</th>\n",
       "      <td>1</td>\n",
       "      <td>8.5</td>\n",
       "    </tr>\n",
       "    <tr>\n",
       "      <th>1</th>\n",
       "      <td>3</td>\n",
       "      <td>20.2</td>\n",
       "    </tr>\n",
       "    <tr>\n",
       "      <th>2</th>\n",
       "      <td>5</td>\n",
       "      <td>29.7</td>\n",
       "    </tr>\n",
       "    <tr>\n",
       "      <th>3</th>\n",
       "      <td>9</td>\n",
       "      <td>43.8</td>\n",
       "    </tr>\n",
       "    <tr>\n",
       "      <th>4</th>\n",
       "      <td>12</td>\n",
       "      <td>50.1</td>\n",
       "    </tr>\n",
       "  </tbody>\n",
       "</table>\n",
       "</div>"
      ],
      "text/plain": [
       "    N  Accuracy\n",
       "0   1       8.5\n",
       "1   3      20.2\n",
       "2   5      29.7\n",
       "3   9      43.8\n",
       "4  12      50.1"
      ]
     },
     "execution_count": 5,
     "metadata": {},
     "output_type": "execute_result"
    }
   ],
   "source": [
    "# Define the list of N values\n",
    "N_values = [1, 3, 5, 9, 12]\n",
    "\n",
    "# Initialize an empty list to store the results\n",
    "results = []\n",
    "\n",
    "for N in N_values:\n",
    "    # Call the recommendation function\n",
    "    recommendation_matrix = create_recommendation_matrix(df, prediction_algo, N, num_workers=10)\n",
    "    \n",
    "    # Calculate the recommendation accuracy\n",
    "    recom_acc = rm.calculate_recommendation_accuracy(df, recommendation_matrix)\n",
    "    \n",
    "    # Store N and the accuracy in the results list\n",
    "    results.append({'N': N, 'Accuracy': recom_acc * 100})\n",
    "    \n",
    "    # Save the recommendation matrix to a CSV file\n",
    "    filename = f\"recommendation_matrix_{N}.csv\"\n",
    "    recommendation_matrix.to_csv(filename)\n",
    "\n",
    "# Convert the results to a DataFrame\n",
    "results_df = pd.DataFrame(results)\n",
    "\n",
    "# Display the DataFrame\n",
    "results_df"
   ]
  },
  {
   "cell_type": "code",
   "execution_count": 8,
   "metadata": {},
   "outputs": [],
   "source": [
    "results_df.to_csv(\"model2_accuracy.csv\")"
   ]
  }
 ],
 "metadata": {
  "kernelspec": {
   "display_name": "base",
   "language": "python",
   "name": "python3"
  },
  "language_info": {
   "codemirror_mode": {
    "name": "ipython",
    "version": 3
   },
   "file_extension": ".py",
   "mimetype": "text/x-python",
   "name": "python",
   "nbconvert_exporter": "python",
   "pygments_lexer": "ipython3",
   "version": "3.11.8"
  }
 },
 "nbformat": 4,
 "nbformat_minor": 2
}
